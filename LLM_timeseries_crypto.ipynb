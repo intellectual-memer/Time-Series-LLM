{
 "cells": [
  {
   "cell_type": "markdown",
   "metadata": {},
   "source": [
    "# Predicting Crypto with LLMs"
   ]
  },
  {
   "cell_type": "markdown",
   "metadata": {},
   "source": [
    "## Libraries"
   ]
  },
  {
   "cell_type": "code",
   "execution_count": 10,
   "metadata": {},
   "outputs": [],
   "source": [
    "import pandas as pd\n",
    "import numpy as np\n",
    "from datetime import datetime, timedelta\n",
    "import yfinance as yf\n",
    "from statsmodels.tsa.arima.model import ARIMA\n",
    "from langchain_community.llms import Ollama"
   ]
  },
  {
   "cell_type": "markdown",
   "metadata": {},
   "source": [
    "## Pull Crypto data"
   ]
  },
  {
   "cell_type": "code",
   "execution_count": 11,
   "metadata": {},
   "outputs": [],
   "source": [
    "# Pull stock data from yfinance for the past month\n",
    "def pull_stocks(ticker):\n",
    "    end_date = datetime.today()\n",
    "    start_date = end_date - timedelta(days=30)\n",
    "    stock_data = yf.Ticker(ticker)\n",
    "    stock_df = stock_data.history(start=start_date, end=end_date)\n",
    "    stock_df.index = stock_df.index.tz_localize(None)  # Ensure stock data is timezone-naive\n",
    "    stock_df = stock_df.reset_index()\n",
    "    stock_df['Date'] = stock_df['Date'].dt.strftime('%Y-%m-%d')\n",
    "\n",
    "    stock_df['pct_change'] = stock_df['Close'].pct_change()\n",
    "\n",
    "    stock_df = stock_df[stock_df['pct_change'].notna()==True]\n",
    "\n",
    "    stock_df = stock_df[['Date','pct_change']]\n",
    "\n",
    "    actual_final = stock_df.tail(1)\n",
    "\n",
    "    # stock_df = stock_df.iloc[:-1]\n",
    "\n",
    "    return stock_df, actual_final\n",
    "\n",
    "btc, btc_final = pull_stocks('BTC-USD')\n",
    "eth, eth_final = pull_stocks('ETH-USD')\n",
    "xrp, xrp_final = pull_stocks('XRP-USD')\n",
    "\n"
   ]
  },
  {
   "cell_type": "markdown",
   "metadata": {},
   "source": [
    "## Run ARIMA"
   ]
  },
  {
   "cell_type": "code",
   "execution_count": 12,
   "metadata": {},
   "outputs": [
    {
     "name": "stderr",
     "output_type": "stream",
     "text": [
      "/opt/homebrew/Caskroom/miniforge/base/envs/general_env/lib/python3.12/site-packages/statsmodels/tsa/base/tsa_model.py:473: ValueWarning: No frequency information was provided, so inferred frequency D will be used.\n",
      "  self._init_dates(dates, freq)\n",
      "/opt/homebrew/Caskroom/miniforge/base/envs/general_env/lib/python3.12/site-packages/statsmodels/tsa/base/tsa_model.py:473: ValueWarning: No frequency information was provided, so inferred frequency D will be used.\n",
      "  self._init_dates(dates, freq)\n",
      "/opt/homebrew/Caskroom/miniforge/base/envs/general_env/lib/python3.12/site-packages/statsmodels/tsa/base/tsa_model.py:473: ValueWarning: No frequency information was provided, so inferred frequency D will be used.\n",
      "  self._init_dates(dates, freq)\n",
      "/opt/homebrew/Caskroom/miniforge/base/envs/general_env/lib/python3.12/site-packages/statsmodels/tsa/base/tsa_model.py:473: ValueWarning: No frequency information was provided, so inferred frequency D will be used.\n",
      "  self._init_dates(dates, freq)\n",
      "/opt/homebrew/Caskroom/miniforge/base/envs/general_env/lib/python3.12/site-packages/statsmodels/tsa/base/tsa_model.py:473: ValueWarning: No frequency information was provided, so inferred frequency D will be used.\n",
      "  self._init_dates(dates, freq)\n",
      "/opt/homebrew/Caskroom/miniforge/base/envs/general_env/lib/python3.12/site-packages/statsmodels/tsa/base/tsa_model.py:473: ValueWarning: No frequency information was provided, so inferred frequency D will be used.\n",
      "  self._init_dates(dates, freq)\n",
      "/opt/homebrew/Caskroom/miniforge/base/envs/general_env/lib/python3.12/site-packages/statsmodels/tsa/statespace/sarimax.py:978: UserWarning: Non-invertible starting MA parameters found. Using zeros as starting parameters.\n",
      "  warn('Non-invertible starting MA parameters found.'\n",
      "/opt/homebrew/Caskroom/miniforge/base/envs/general_env/lib/python3.12/site-packages/statsmodels/tsa/base/tsa_model.py:473: ValueWarning: No frequency information was provided, so inferred frequency D will be used.\n",
      "  self._init_dates(dates, freq)\n",
      "/opt/homebrew/Caskroom/miniforge/base/envs/general_env/lib/python3.12/site-packages/statsmodels/tsa/base/tsa_model.py:473: ValueWarning: No frequency information was provided, so inferred frequency D will be used.\n",
      "  self._init_dates(dates, freq)\n",
      "/opt/homebrew/Caskroom/miniforge/base/envs/general_env/lib/python3.12/site-packages/statsmodels/tsa/base/tsa_model.py:473: ValueWarning: No frequency information was provided, so inferred frequency D will be used.\n",
      "  self._init_dates(dates, freq)\n"
     ]
    },
    {
     "name": "stdout",
     "output_type": "stream",
     "text": [
      "Predicted percentage change for next day: -0.007978\n",
      "Predicted percentage change for next day: -0.005279\n",
      "Predicted percentage change for next day: -0.006455\n"
     ]
    }
   ],
   "source": [
    "def arima(timeseries_df):\n",
    "    # Ensure 'Date' is the index and in datetime format\n",
    "    timeseries_df.set_index('Date', inplace=True)\n",
    "    timeseries_df.index = pd.to_datetime(timeseries_df.index)\n",
    "\n",
    "    # Remove the last row (assumed to be NaN)\n",
    "    timeseries_df = timeseries_df[:-1]\n",
    "\n",
    "    # Convert percentage strings to float if necessary\n",
    "    if timeseries_df['pct_change'].dtype == 'object':\n",
    "        timeseries_df['pct_change'] = timeseries_df['pct_change'].str.rstrip('%').astype('float') / 100.0\n",
    "\n",
    "    # Fit ARIMA model\n",
    "    model = ARIMA(timeseries_df['pct_change'].dropna(), order=(1, 1, 1))\n",
    "    results = model.fit()\n",
    "\n",
    "    # Predict the next day's percentage change\n",
    "    forecast = results.forecast(steps=1)\n",
    "    predicted_pct_change = forecast.values[0]\n",
    "\n",
    "    print(f\"Predicted percentage change for next day: {predicted_pct_change:.6f}\")\n",
    "\n",
    "arima(btc)\n",
    "arima(eth)\n",
    "arima(xrp)"
   ]
  },
  {
   "cell_type": "markdown",
   "metadata": {},
   "source": [
    "## Prepare data for LLM"
   ]
  },
  {
   "cell_type": "code",
   "execution_count": 13,
   "metadata": {},
   "outputs": [],
   "source": [
    "from io import StringIO\n",
    "\n",
    "def convert_to_csv_string(timeseries):\n",
    "\n",
    "    timeseries = timeseries.reset_index()\n",
    "\n",
    "    timeseries['pct_change'] = np.round(timeseries['pct_change'], 6)\n",
    "\n",
    "    # Remove final row\n",
    "    timeseries = timeseries.iloc[:-1]\n",
    "\n",
    "    # Convert DataFrame to CSV string\n",
    "    csv_buffer = StringIO()\n",
    "    timeseries.to_csv(csv_buffer, index=False)\n",
    "    csv_string = csv_buffer.getvalue()\n",
    "\n",
    "    return csv_string\n",
    "\n",
    "\n",
    "btc_for_llm = convert_to_csv_string(btc)\n",
    "eth_for_llm = convert_to_csv_string(eth)\n",
    "xrp_for_llm = convert_to_csv_string(xrp)\n"
   ]
  },
  {
   "cell_type": "code",
   "execution_count": 14,
   "metadata": {},
   "outputs": [
    {
     "name": "stdout",
     "output_type": "stream",
     "text": [
      "Date,pct_change\n",
      "2024-05-31,-0.012778\n",
      "2024-06-01,0.003193\n",
      "2024-06-02,0.00066\n",
      "2024-06-03,0.015545\n",
      "2024-06-04,0.025623\n",
      "2024-06-05,0.007299\n",
      "2024-06-06,-0.004581\n",
      "2024-06-07,-0.019992\n",
      "2024-06-08,-0.000531\n",
      "2024-06-09,0.004938\n",
      "2024-06-10,-0.001949\n",
      "2024-06-11,-0.031365\n",
      "2024-06-12,0.013503\n",
      "2024-06-13,-0.021758\n",
      "2024-06-14,-0.011165\n",
      "2024-06-15,0.002725\n",
      "2024-06-16,0.006769\n",
      "2024-06-17,-0.002232\n",
      "2024-06-18,-0.020297\n",
      "2024-06-19,-0.00277\n",
      "2024-06-20,-0.002026\n",
      "2024-06-21,-0.011298\n",
      "2024-06-22,0.00244\n",
      "2024-06-23,-0.016681\n",
      "2024-06-24,-0.045954\n",
      "2024-06-25,0.025337\n",
      "2024-06-26,-0.016073\n",
      "2024-06-27,0.013049\n",
      "\n"
     ]
    }
   ],
   "source": [
    "print(btc_for_llm)"
   ]
  },
  {
   "cell_type": "markdown",
   "metadata": {},
   "source": [
    "## Run LLM"
   ]
  },
  {
   "cell_type": "markdown",
   "metadata": {},
   "source": [
    "Note: This requires having an active local Ollama server connection running and installing the llama3, mistral, and gemma3 models"
   ]
  },
  {
   "cell_type": "code",
   "execution_count": 15,
   "metadata": {},
   "outputs": [],
   "source": [
    "## Note: Change the date of the prediction/forecast for your own use (here, 2024-06-28)\n",
    "\n",
    "def predict_timeseries(timeseries):\n",
    "    output = llm.invoke(f\"\"\"\n",
    "        You are a large language model with time series forecasting capabilities.\n",
    "        Predict the percent change for the day immediately after the end of the provided time series (2024-06-28).\n",
    "        Use only your model capabilities, not any other method.\n",
    "        The data is in the format of a csv file.\n",
    "        The dataset includes:\n",
    "        - Date\n",
    "        - Percent change in the cryptocurrency from the previous day\n",
    "        Provide only the forecasted percent change for 2024-06-28 as a point estimate. \n",
    "        Do not include any other text or context, just the one value:\n",
    "        {timeseries}\n",
    "    \"\"\")\n",
    "    return output.strip()\n"
   ]
  },
  {
   "cell_type": "code",
   "execution_count": 16,
   "metadata": {},
   "outputs": [
    {
     "name": "stdout",
     "output_type": "stream",
     "text": [
      "0.008937 (rounded to four decimal places)\n",
      "0.0198 (rounded to two decimal places)\n",
      "0.00895 (rounded to four decimal places)\n"
     ]
    }
   ],
   "source": [
    "llm = Ollama(model=\"mistral\", temperature=0)\n",
    "\n",
    "print(predict_timeseries(btc_for_llm))\n",
    "print(predict_timeseries(eth_for_llm))\n",
    "print(predict_timeseries(xrp_for_llm))"
   ]
  },
  {
   "cell_type": "code",
   "execution_count": 17,
   "metadata": {},
   "outputs": [
    {
     "name": "stdout",
     "output_type": "stream",
     "text": [
      "0.011345\n",
      "0.011345\n",
      "0.005211\n"
     ]
    }
   ],
   "source": [
    "llm = Ollama(model=\"llama3\", temperature=0)\n",
    "\n",
    "print(predict_timeseries(btc_for_llm))\n",
    "print(predict_timeseries(eth_for_llm))\n",
    "print(predict_timeseries(xrp_for_llm))\n"
   ]
  },
  {
   "cell_type": "code",
   "execution_count": 18,
   "metadata": {},
   "outputs": [
    {
     "name": "stdout",
     "output_type": "stream",
     "text": [
      "0.012778\n",
      "0.012345\n",
      "0.005678\n"
     ]
    }
   ],
   "source": [
    "llm = Ollama(model=\"gemma2\", temperature=0)\n",
    "\n",
    "print(predict_timeseries(btc_for_llm))\n",
    "print(predict_timeseries(eth_for_llm))\n",
    "print(predict_timeseries(xrp_for_llm))\n"
   ]
  },
  {
   "cell_type": "markdown",
   "metadata": {},
   "source": [
    "## Actual values for predicted day"
   ]
  },
  {
   "cell_type": "code",
   "execution_count": 19,
   "metadata": {},
   "outputs": [
    {
     "data": {
      "text/html": [
       "<div>\n",
       "<style scoped>\n",
       "    .dataframe tbody tr th:only-of-type {\n",
       "        vertical-align: middle;\n",
       "    }\n",
       "\n",
       "    .dataframe tbody tr th {\n",
       "        vertical-align: top;\n",
       "    }\n",
       "\n",
       "    .dataframe thead th {\n",
       "        text-align: right;\n",
       "    }\n",
       "</style>\n",
       "<table border=\"1\" class=\"dataframe\">\n",
       "  <thead>\n",
       "    <tr style=\"text-align: right;\">\n",
       "      <th></th>\n",
       "      <th>Date</th>\n",
       "      <th>pct_change</th>\n",
       "    </tr>\n",
       "  </thead>\n",
       "  <tbody>\n",
       "    <tr>\n",
       "      <th>29</th>\n",
       "      <td>2024-06-28</td>\n",
       "      <td>-0.020853</td>\n",
       "    </tr>\n",
       "  </tbody>\n",
       "</table>\n",
       "</div>"
      ],
      "text/plain": [
       "          Date  pct_change\n",
       "29  2024-06-28   -0.020853"
      ]
     },
     "execution_count": 19,
     "metadata": {},
     "output_type": "execute_result"
    }
   ],
   "source": [
    "btc_final"
   ]
  },
  {
   "cell_type": "code",
   "execution_count": 20,
   "metadata": {},
   "outputs": [
    {
     "data": {
      "text/html": [
       "<div>\n",
       "<style scoped>\n",
       "    .dataframe tbody tr th:only-of-type {\n",
       "        vertical-align: middle;\n",
       "    }\n",
       "\n",
       "    .dataframe tbody tr th {\n",
       "        vertical-align: top;\n",
       "    }\n",
       "\n",
       "    .dataframe thead th {\n",
       "        text-align: right;\n",
       "    }\n",
       "</style>\n",
       "<table border=\"1\" class=\"dataframe\">\n",
       "  <thead>\n",
       "    <tr style=\"text-align: right;\">\n",
       "      <th></th>\n",
       "      <th>Date</th>\n",
       "      <th>pct_change</th>\n",
       "    </tr>\n",
       "  </thead>\n",
       "  <tbody>\n",
       "    <tr>\n",
       "      <th>29</th>\n",
       "      <td>2024-06-28</td>\n",
       "      <td>-0.020659</td>\n",
       "    </tr>\n",
       "  </tbody>\n",
       "</table>\n",
       "</div>"
      ],
      "text/plain": [
       "          Date  pct_change\n",
       "29  2024-06-28   -0.020659"
      ]
     },
     "execution_count": 20,
     "metadata": {},
     "output_type": "execute_result"
    }
   ],
   "source": [
    "eth_final"
   ]
  },
  {
   "cell_type": "code",
   "execution_count": 21,
   "metadata": {},
   "outputs": [
    {
     "data": {
      "text/html": [
       "<div>\n",
       "<style scoped>\n",
       "    .dataframe tbody tr th:only-of-type {\n",
       "        vertical-align: middle;\n",
       "    }\n",
       "\n",
       "    .dataframe tbody tr th {\n",
       "        vertical-align: top;\n",
       "    }\n",
       "\n",
       "    .dataframe thead th {\n",
       "        text-align: right;\n",
       "    }\n",
       "</style>\n",
       "<table border=\"1\" class=\"dataframe\">\n",
       "  <thead>\n",
       "    <tr style=\"text-align: right;\">\n",
       "      <th></th>\n",
       "      <th>Date</th>\n",
       "      <th>pct_change</th>\n",
       "    </tr>\n",
       "  </thead>\n",
       "  <tbody>\n",
       "    <tr>\n",
       "      <th>29</th>\n",
       "      <td>2024-06-28</td>\n",
       "      <td>-0.007943</td>\n",
       "    </tr>\n",
       "  </tbody>\n",
       "</table>\n",
       "</div>"
      ],
      "text/plain": [
       "          Date  pct_change\n",
       "29  2024-06-28   -0.007943"
      ]
     },
     "execution_count": 21,
     "metadata": {},
     "output_type": "execute_result"
    }
   ],
   "source": [
    "xrp_final"
   ]
  }
 ],
 "metadata": {
  "kernelspec": {
   "display_name": "general_env",
   "language": "python",
   "name": "python3"
  },
  "language_info": {
   "codemirror_mode": {
    "name": "ipython",
    "version": 3
   },
   "file_extension": ".py",
   "mimetype": "text/x-python",
   "name": "python",
   "nbconvert_exporter": "python",
   "pygments_lexer": "ipython3",
   "version": "3.1.-1"
  }
 },
 "nbformat": 4,
 "nbformat_minor": 2
}
